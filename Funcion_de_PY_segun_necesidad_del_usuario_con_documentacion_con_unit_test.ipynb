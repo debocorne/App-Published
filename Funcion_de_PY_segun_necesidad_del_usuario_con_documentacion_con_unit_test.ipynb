{
  "nbformat": 4,
  "nbformat_minor": 0,
  "metadata": {
    "colab": {
      "provenance": [],
      "authorship_tag": "ABX9TyNgO7YIbk7p76lHhMESnAdF",
      "include_colab_link": true
    },
    "kernelspec": {
      "name": "python3",
      "display_name": "Python 3"
    },
    "language_info": {
      "name": "python"
    }
  },
  "cells": [
    {
      "cell_type": "markdown",
      "metadata": {
        "id": "view-in-github",
        "colab_type": "text"
      },
      "source": [
        "<a href=\"https://colab.research.google.com/github/debocorne/App-Published/blob/main/Funcion_de_PY_segun_necesidad_del_usuario_con_documentacion_con_unit_test.ipynb\" target=\"_parent\"><img src=\"https://colab.research.google.com/assets/colab-badge.svg\" alt=\"Open In Colab\"/></a>"
      ]
    },
    {
      "cell_type": "code",
      "execution_count": 9,
      "metadata": {
        "colab": {
          "base_uri": "https://localhost:8080/"
        },
        "id": "-7DUxfLsoJyv",
        "outputId": "e5d790ed-5299-4be0-c62e-6b8f8f42402f"
      },
      "outputs": [
        {
          "output_type": "stream",
          "name": "stdout",
          "text": [
            "Ingresá tu Groq API Key: ··········\n",
            "¿Qué función en Python te gustaría crear? Describila brevemente: separar string la , por un space\n",
            "Código generado y guardado en:\n",
            "- funcion_generada.py\n",
            "- funcion_documentada.py\n",
            "- tests_funcion.py\n"
          ]
        }
      ],
      "source": [
        "# 1. Instalar LiteLLM si no está\n",
        "#!pip install -q litellm\n",
        "\n",
        "# 2. Importar librerías\n",
        "import os\n",
        "import re\n",
        "from getpass import getpass\n",
        "from typing import List, Dict\n",
        "import litellm\n",
        "\n",
        "# 3. Ingresar API Key\n",
        "api_key = getpass(\"Ingresá tu Groq API Key: \")\n",
        "os.environ[\"GROQ_API_KEY\"] = api_key\n",
        "\n",
        "# 4. Configurar LiteLLM para Groq\n",
        "litellm.api_key = os.environ[\"GROQ_API_KEY\"]\n",
        "base_url = \"https://api.groq.com/openai/v1\"\n",
        "\n",
        "# 5. Solicitar descripción de la función\n",
        "descripcion_funcion = input(\"¿Qué función en Python te gustaría crear? Describila brevemente: \")\n",
        "\n",
        "# --- PRIMER PROMPT: generar función básica ---\n",
        "messages_gen = [\n",
        "    {\n",
        "        \"role\": \"system\",\n",
        "        \"content\": \"Sos un ingeniero de software experto que escribe funciones limpias y funcionales en Python.\"\n",
        "    },\n",
        "    {\n",
        "        \"role\": \"user\",\n",
        "        \"content\": f\"Escribí una función en Python que haga lo siguiente: {descripcion_funcion}\"\n",
        "    }\n",
        "]\n",
        "\n",
        "response = litellm.completion(\n",
        "    model=\"compound-beta\",\n",
        "    messages=messages_gen,\n",
        "    max_tokens=1024,\n",
        "    api_base=base_url,\n",
        "    api_key=os.environ[\"GROQ_API_KEY\"]\n",
        ")\n",
        "raw_code_response = response[\"choices\"][0][\"message\"][\"content\"]\n",
        "\n",
        "# Extraer el bloque de código\n",
        "code_match = re.search(r\"```(?:python)?\\s*(.*?)```\", raw_code_response, re.DOTALL)\n",
        "codigo = code_match.group(1).strip() if code_match else raw_code_response\n",
        "\n",
        "# Guardar código en archivo\n",
        "with open(\"funcion_generada.py\", \"w\") as f:\n",
        "    f.write(codigo)\n",
        "\n",
        "# --- SEGUNDO PROMPT: agregar documentación ---\n",
        "messages_doc = [\n",
        "    {\n",
        "        \"role\": \"system\",\n",
        "        \"content\": \"Sos un ingeniero de software senior especializado en documentación clara y completa.\"\n",
        "    },\n",
        "    {\n",
        "        \"role\": \"user\",\n",
        "        \"content\": (\n",
        "            \"Documentá completamente la siguiente función de Python. Incluí:\\n\"\n",
        "            \"- Descripción general de la función\\n\"\n",
        "            \"- Descripción de parámetros\\n\"\n",
        "            \"- Descripción del valor de retorno\\n\"\n",
        "            \"- Ejemplo de uso\\n\"\n",
        "            \"- Casos límite\\n\\n\"\n",
        "            f\"Código:\\n{codigo}\"\n",
        "        )\n",
        "    }\n",
        "]\n",
        "\n",
        "response_doc = litellm.completion(\n",
        "    model=\"compound-beta\",\n",
        "    messages=messages_doc,\n",
        "    max_tokens=1024,\n",
        "    api_base=base_url,\n",
        "    api_key=os.environ[\"GROQ_API_KEY\"]\n",
        ")\n",
        "documentacion = response_doc[\"choices\"][0][\"message\"][\"content\"]\n",
        "\n",
        "with open(\"funcion_documentada.py\", \"w\") as f:\n",
        "    f.write(documentacion)\n",
        "\n",
        "# --- TERCER PROMPT: generar pruebas con unittest ---\n",
        "messages_test = [\n",
        "    {\n",
        "        \"role\": \"system\",\n",
        "        \"content\": \"Sos un experto en testing automatizado con unittest.\"\n",
        "    },\n",
        "    {\n",
        "        \"role\": \"user\",\n",
        "        \"content\": (\n",
        "            \"Escribí casos de prueba usando unittest para la siguiente función en Python.\\n\"\n",
        "            \"Cubrí: funcionalidad básica, casos límite, errores, y entradas variadas.\\n\\n\"\n",
        "            f\"Código:\\n{documentacion}\"\n",
        "        )\n",
        "    }\n",
        "]\n",
        "\n",
        "response_test = litellm.completion(\n",
        "    model=\"compound-beta\",\n",
        "    messages=messages_test,\n",
        "    max_tokens=1024,\n",
        "    api_base=base_url,\n",
        "    api_key=os.environ[\"GROQ_API_KEY\"]\n",
        ")\n",
        "tests = response_test[\"choices\"][0][\"message\"][\"content\"]\n",
        "\n",
        "with open(\"tests_funcion.py\", \"w\") as f:\n",
        "    f.write(tests)\n",
        "\n",
        "# --- Confirmación ---\n",
        "print(\"Código generado y guardado en:\")\n",
        "print(\"- funcion_generada.py\")\n",
        "print(\"- funcion_documentada.py\")\n",
        "print(\"- tests_funcion.py\")\n",
        "\n",
        "\n"
      ]
    },
    {
      "cell_type": "markdown",
      "source": [
        "# Nueva sección"
      ],
      "metadata": {
        "id": "9YCeuvbo0T55"
      }
    },
    {
      "cell_type": "markdown",
      "source": [
        "# Nueva sección"
      ],
      "metadata": {
        "id": "53kjSIfb0UcZ"
      }
    }
  ]
}