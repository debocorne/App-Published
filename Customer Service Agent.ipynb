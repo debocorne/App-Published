{
  "nbformat": 4,
  "nbformat_minor": 0,
  "metadata": {
    "colab": {
      "provenance": [],
      "authorship_tag": "ABX9TyO3lu95mot5s0+Dwl1qoN0b",
      "include_colab_link": true
    },
    "kernelspec": {
      "name": "python3",
      "display_name": "Python 3"
    },
    "language_info": {
      "name": "python"
    }
  },
  "cells": [
    {
      "cell_type": "markdown",
      "metadata": {
        "id": "view-in-github",
        "colab_type": "text"
      },
      "source": [
        "<a href=\"https://colab.research.google.com/github/debocorne/App-Published/blob/main/ProgrammaticPrompting4.ipynb\" target=\"_parent\"><img src=\"https://colab.research.google.com/assets/colab-badge.svg\" alt=\"Open In Colab\"/></a>"
      ]
    },
    {
      "cell_type": "code",
      "execution_count": 4,
      "metadata": {
        "colab": {
          "base_uri": "https://localhost:8080/"
        },
        "id": "-7DUxfLsoJyv",
        "outputId": "82376d25-78f2-425a-9903-d146c027dff3"
      },
      "outputs": [
        {
          "output_type": "stream",
          "name": "stdout",
          "text": [
            "Ingresá tu Groq API Key: ··········\n",
            "¿Cuál es el inconveniente que desea resolver?cambiar la configuracion del teclado\n",
            "Para cambiar la configuración del teclado, te recomiendo seguir los siguientes pasos dependiendo del sistema operativo que estés utilizando:\n",
            "\n",
            "**Para macOS:**\n",
            "\n",
            "1. Ve a \"Preferencias del sistema\".\n",
            "2. Haz clic en \"Teclado\".\n",
            "3. Selecciona \"Fuentes de entrada\".\n",
            "4. Haz clic en el icono \"+\" para agregar un nuevo diseño de teclado.\n",
            "\n",
            "**Para Windows:**\n",
            "\n",
            "1. Ve a \"Configuración\".\n",
            "2. Haz clic en \"Tiempo y lenguaje\".\n",
            "3. Selecciona \"Idioma y región\".\n",
            "4. Haz clic en \"Opciones de idioma\".\n",
            "5. Agrega un nuevo diseño de teclado.\n",
            "\n",
            "Si estás utilizando un teclado de Windows en una Mac, es posible que debas remapear algunas teclas para que funcionen correctamente. Puedes hacer esto yendo a \"Preferencias del sistema\" > \"Teclado\" > \"Teclas modificadores\" y ajustando las configuraciones según sea necesario.\n",
            "\n",
            "Sin embargo, antes de intentar cambiar la configuración del teclado, te recomiendo probar un paso más simple: **reiniciar tu computadora**. A menudo, esto puede resolver problemas técnicos sin necesidad de realizar cambios en la configuración. ¿Has intentado reiniciar tu computadora?\n"
          ]
        }
      ],
      "source": [
        "# 1. Instalá la librería oficial de Groq (si no lo hiciste ya)\n",
        "!pip install -q groq\n",
        "\n",
        "# 2. Librerías necesarias\n",
        "from groq import Groq\n",
        "import os\n",
        "from getpass import getpass\n",
        "from typing import List, Dict\n",
        "\n",
        "# 3. Ingresar la API Key de Groq\n",
        "api_key = getpass(\"Ingresá tu Groq API Key: \")\n",
        "client = Groq(api_key=api_key)\n",
        "\n",
        "# 4. Función para consultar al modelo\n",
        "def generate_response(messages: List[Dict]) -> str:\n",
        "    \"\"\"Call LLM to get response\"\"\"\n",
        "    response = client.chat.completions.create(\n",
        "        model=\"compound-beta\",\n",
        "        messages=messages,\n",
        "        max_tokens=1024\n",
        "    )\n",
        "    return response.choices[0].message.content\n",
        "\n",
        "# 5. Ejemplo de mensajes\n",
        "consulta_usuario = input(\"¿Cuál es el inconveniente que desea resolver?\")\n",
        "\n",
        "messages = [\n",
        "    {\n",
        "        \"role\": \"system\",\n",
        "        \"content\": \"Sos un agente de soporte técnico especializado. Ante cualquier consulta del usuario, la respuesta estándar debe ser indicarle que reinicie su computadora o módem apagándolo y encendiéndolo nuevamente, ya que esta acción suele resolver la mayoría de los problemas técnicos.\"\n",
        "    },\n",
        "    {\n",
        "        \"role\": \"user\",\n",
        "        \"content\": consulta_usuario\n",
        "    }\n",
        "]\n",
        "\n",
        "\n",
        "response = generate_response(messages)\n",
        "print(response)\n"
      ]
    }
  ]
}
