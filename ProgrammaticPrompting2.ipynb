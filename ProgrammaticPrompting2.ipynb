{
  "nbformat": 4,
  "nbformat_minor": 0,
  "metadata": {
    "colab": {
      "provenance": [],
      "authorship_tag": "ABX9TyMN5gy7Pd0w3nDaIapuYHu1",
      "include_colab_link": true
    },
    "kernelspec": {
      "name": "python3",
      "display_name": "Python 3"
    },
    "language_info": {
      "name": "python"
    }
  },
  "cells": [
    {
      "cell_type": "markdown",
      "metadata": {
        "id": "view-in-github",
        "colab_type": "text"
      },
      "source": [
        "<a href=\"https://colab.research.google.com/github/debocorne/App-Published/blob/main/ProgrammaticPrompting2.ipynb\" target=\"_parent\"><img src=\"https://colab.research.google.com/assets/colab-badge.svg\" alt=\"Open In Colab\"/></a>"
      ]
    },
    {
      "cell_type": "code",
      "execution_count": 2,
      "metadata": {
        "colab": {
          "base_uri": "https://localhost:8080/"
        },
        "id": "-7DUxfLsoJyv",
        "outputId": "536a07cc-0ffe-4a52-c753-0d14745ad6f8"
      },
      "outputs": [
        {
          "output_type": "stream",
          "name": "stdout",
          "text": [
            "\u001b[?25l   \u001b[90m━━━━━━━━━━━━━━━━━━━━━━━━━━━━━━━━━━━━━━━━\u001b[0m \u001b[32m0.0/131.1 kB\u001b[0m \u001b[31m?\u001b[0m eta \u001b[36m-:--:--\u001b[0m\r\u001b[2K   \u001b[91m━━━\u001b[0m\u001b[90m╺\u001b[0m\u001b[90m━━━━━━━━━━━━━━━━━━━━━━━━━━━━━━━━━━━━\u001b[0m \u001b[32m10.2/131.1 kB\u001b[0m \u001b[31m?\u001b[0m eta \u001b[36m-:--:--\u001b[0m\r\u001b[2K   \u001b[91m━━━━━━━━━━━━━━━━━━━━━━━━━\u001b[0m\u001b[90m╺\u001b[0m\u001b[90m━━━━━━━━━━━━━━\u001b[0m \u001b[32m81.9/131.1 kB\u001b[0m \u001b[31m1.0 MB/s\u001b[0m eta \u001b[36m0:00:01\u001b[0m\r\u001b[2K   \u001b[91m━━━━━━━━━━━━━━━━━━━━━━━━━━━━━━━━━━━━\u001b[0m\u001b[91m╸\u001b[0m\u001b[90m━━\u001b[0m \u001b[32m122.9/131.1 kB\u001b[0m \u001b[31m984.1 kB/s\u001b[0m eta \u001b[36m0:00:01\u001b[0m\r\u001b[2K   \u001b[90m━━━━━━━━━━━━━━━━━━━━━━━━━━━━━━━━━━━━━━━\u001b[0m \u001b[32m131.1/131.1 kB\u001b[0m \u001b[31m930.5 kB/s\u001b[0m eta \u001b[36m0:00:00\u001b[0m\n",
            "\u001b[?25hIngresá tu Groq API Key: ··········\n",
            "Para resolver el problema de conexión a Internet, te recomiendo seguir un paso simple y efectivo. \n",
            "\n",
            "La solución es simple: **apaga y vuelve a encender tu computadora o módem**. Esto suele restablecer la conexión y resolver problemas comunes de Internet.\n"
          ]
        }
      ],
      "source": [
        "# 1. Instalá la librería oficial de Groq (si no lo hiciste ya)\n",
        "!pip install -q groq\n",
        "\n",
        "# 2. Librerías necesarias\n",
        "from groq import Groq\n",
        "import os\n",
        "from getpass import getpass\n",
        "from typing import List, Dict\n",
        "\n",
        "# 3. Ingresar la API Key de Groq\n",
        "api_key = getpass(\"Ingresá tu Groq API Key: \")\n",
        "client = Groq(api_key=api_key)\n",
        "\n",
        "# 4. Función para consultar al modelo\n",
        "def generate_response(messages: List[Dict]) -> str:\n",
        "    \"\"\"Call LLM to get response\"\"\"\n",
        "    response = client.chat.completions.create(\n",
        "        model=\"compound-beta\",\n",
        "        messages=messages,\n",
        "        max_tokens=1024\n",
        "    )\n",
        "    return response.choices[0].message.content\n",
        "\n",
        "# 5. Ejemplo de mensajes\n",
        "messages = [\n",
        "    {\n",
        "        \"role\": \"system\",\n",
        "        \"content\": \"Sos un servicial representante de atención al cliente . No importa lo que pregunte el usuario, la solución siempre es decirle que apague y vuelva a encender su computadora o módem.\"\n",
        "    },\n",
        "    {\n",
        "        \"role\": \"user\",\n",
        "        \"content\": \"¿Cómo hago para que me vuelva a funcionar Internet?\"\n",
        "    }\n",
        "]\n",
        "\n",
        "\n",
        "# 6. Obtener y mostrar la respuesta\n",
        "response = generate_response(messages)\n",
        "print(response)"
      ]
    }
  ]
}