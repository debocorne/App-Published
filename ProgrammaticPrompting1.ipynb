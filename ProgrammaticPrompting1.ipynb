{
  "nbformat": 4,
  "nbformat_minor": 0,
  "metadata": {
    "colab": {
      "provenance": [],
      "include_colab_link": true
    },
    "kernelspec": {
      "name": "python3",
      "display_name": "Python 3"
    },
    "language_info": {
      "name": "python"
    }
  },
  "cells": [
    {
      "cell_type": "markdown",
      "metadata": {
        "id": "view-in-github",
        "colab_type": "text"
      },
      "source": [
        "<a href=\"https://colab.research.google.com/github/debocorne/App-Published/blob/main/ProgrammaticPrompting1.ipynb\" target=\"_parent\"><img src=\"https://colab.research.google.com/assets/colab-badge.svg\" alt=\"Open In Colab\"/></a>"
      ]
    },
    {
      "cell_type": "code",
      "source": [
        "# 1. Instalá la librería oficial de Groq (si no lo hiciste ya)\n",
        "!pip install -q groq\n",
        "\n",
        "# 2. Librerías necesarias\n",
        "from groq import Groq\n",
        "import os\n",
        "from getpass import getpass\n",
        "from typing import List, Dict\n",
        "\n",
        "# 3. Ingresar la API Key de Groq\n",
        "api_key = getpass(\"Ingresá tu Groq API Key: \")\n",
        "client = Groq(api_key=api_key)\n",
        "\n",
        "# 4. Función para consultar al modelo\n",
        "def generate_response(messages: List[Dict]) -> str:\n",
        "    \"\"\"Call LLM to get response\"\"\"\n",
        "    response = client.chat.completions.create(\n",
        "        model=\"compound-beta\",\n",
        "        messages=messages,\n",
        "        max_tokens=1024\n",
        "    )\n",
        "    return response.choices[0].message.content\n",
        "\n",
        "# 5. Ejemplo de mensajes\n",
        "messages = [\n",
        "    {\"role\": \"system\", \"content\": \"You are an expert software engineer that prefers functional programming.\"},\n",
        "    {\"role\": \"user\", \"content\": \"Write a function to swap the keys and values in a dictionary.\"}\n",
        "]\n",
        "\n",
        "# 6. Obtener y mostrar la respuesta\n",
        "response = generate_response(messages)\n",
        "print(response)\n",
        "\n"
      ],
      "metadata": {
        "id": "KEYrzG2vB8Ip",
        "outputId": "79142e8e-6eb2-4ce8-aae7-7e6789e2ee21",
        "colab": {
          "base_uri": "https://localhost:8080/"
        }
      },
      "execution_count": 38,
      "outputs": [
        {
          "output_type": "stream",
          "name": "stdout",
          "text": [
            "Ingresá tu Groq API Key: ··········\n",
            "To write a function that swaps the keys and values in a dictionary, we need to consider a few things:\n",
            "\n",
            "1. Dictionaries in Python cannot have duplicate keys. If the original dictionary has duplicate values, the resulting dictionary will only keep the last key-value pair.\n",
            "\n",
            "2. The function should handle cases where the dictionary values are not hashable (i.e., they cannot be used as dictionary keys).\n",
            "\n",
            "Here's a simple function that accomplishes this:\n",
            "\n",
            "```python\n",
            "def swap_dict_key_value(d):\n",
            "    return {v: k for k, v in d.items()}\n",
            "```\n",
            "\n",
            "However, this function does not handle cases where the dictionary values are not hashable. We can add some error checking to handle such cases:\n",
            "\n",
            "```python\n",
            "def swap_dict_key_value(d):\n",
            "    if not all(isinstance(v, (str, int, float, tuple)) for v in d.values()):\n",
            "        raise ValueError(\"Dictionary values must be hashable\")\n",
            "    return {v: k for k, v in d.items()}\n",
            "```\n",
            "\n",
            "In this version, we check if all values in the dictionary are hashable (i.e., they are strings, integers, floats, or tuples). If not, we raise a ValueError.\n",
            "\n",
            "Let's test this function with some examples:\n",
            "\n",
            "```python\n",
            "d1 = {'a': 1, 'b': 2, 'c': 3}\n",
            "d2 = {1: 'a', 2: 'b', 3: 'c'}\n",
            "d3 = {'a': 'apple', 'b': 'banana', 'c': 'cherry'}\n",
            "d4 = {'a': [1, 2, 3], 'b': [4, 5, 6], 'c': [7, 8, 9]}  # This will raise an error\n",
            "\n",
            "print(swap_dict_key_value(d1))  # Should print: {1: 'a', 2: 'b', 3: 'c'}\n",
            "print(swap_dict_key_value(d2))  # Should print: {'a': 1, 'b': 2, 'c': 3}\n",
            "print(swap_dict_key_value(d3))  # Should print: {'apple': 'a', 'banana': 'b', 'cherry': 'c'}\n",
            "\n",
            "try:\n",
            "    print(swap_dict_key_value(d4))  # This should raise an error\n",
            "except ValueError as e:\n",
            "    print(e)  # Should print: Dictionary values must be hashable\n",
            "```\n",
            "\n",
            "To use this function, simply call it with a dictionary as an argument. The function will return a new dictionary where the keys and values have been swapped. If the dictionary values are not hashable, the function will raise a ValueError.\n",
            "\n",
            "Here is the complete code with example usage:\n",
            "\n",
            "```python\n",
            "def swap_dict_key_value(d):\n",
            "    \"\"\"\n",
            "    Swap the keys and values in a dictionary.\n",
            "\n",
            "    Args:\n",
            "        d (dict): The dictionary to swap.\n",
            "\n",
            "    Returns:\n",
            "        dict: A new dictionary with the keys and values swapped.\n",
            "\n",
            "    Raises:\n",
            "        ValueError: If the dictionary values are not hashable.\n",
            "    \"\"\"\n",
            "    if not all(isinstance(v, (str, int, float, tuple)) for v in d.values()):\n",
            "        raise ValueError(\"Dictionary values must be hashable\")\n",
            "    return {v: k for k, v in d.items()}\n",
            "\n",
            "# Example usage:\n",
            "d1 = {'a': 1, 'b': 2, 'c': 3}\n",
            "d2 = {1: 'a', 2: 'b', 3: 'c'}\n",
            "d3 = {'a': 'apple', 'b': 'banana', 'c': 'cherry'}\n",
            "d4 = {'a': [1, 2, 3], 'b': [4, 5, 6], 'c': [7, 8, 9]}  # This will raise an error\n",
            "\n",
            "print(swap_dict_key_value(d1))  \n",
            "print(swap_dict_key_value(d2))  \n",
            "print(swap_dict_key_value(d3))  \n",
            "\n",
            "try:\n",
            "    print(swap_dict_key_value(d4))  \n",
            "except ValueError as e:\n",
            "    print(e)\n",
            "```\n"
          ]
        }
      ]
    },
    {
      "cell_type": "code",
      "execution_count": 39,
      "metadata": {
        "id": "Mwe2eeOQB0cC"
      },
      "outputs": [],
      "source": [
        "# prompt: input_dict = {\"a\": 1, \"b\": 2, \"c\": 3}\n",
        "# swapped_dict = swap_dict(input_dict)\n",
        "# print(swapped_dict)  # Output: {1: 'a', 2: 'b', 3: 'c'}\n",
        "\n",
        "def swap_dict(d: Dict) -> Dict:\n",
        "  \"\"\"Swaps the keys and values of a dictionary.\"\"\"\n",
        "  return {v: k for k, v in d.items()}"
      ]
    },
    {
      "cell_type": "code",
      "source": [
        "input_dict = {\"a\": 1, \"b\": 2, \"c\": 3}\n",
        "swapped_dict = swap_dict(input_dict)\n",
        "print(swapped_dict)  # Output: {1: 'a', 2: 'b', 3: 'c'}"
      ],
      "metadata": {
        "id": "Qh7QflxjEKW2",
        "outputId": "dabcf62a-ecdc-4bdb-d440-e07418900093",
        "colab": {
          "base_uri": "https://localhost:8080/"
        }
      },
      "execution_count": 40,
      "outputs": [
        {
          "output_type": "stream",
          "name": "stdout",
          "text": [
            "{1: 'a', 2: 'b', 3: 'c'}\n"
          ]
        }
      ]
    }
  ]
}